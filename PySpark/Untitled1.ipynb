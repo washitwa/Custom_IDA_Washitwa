{
 "cells": [
  {
   "cell_type": "markdown",
   "id": "a39e1fd7",
   "metadata": {},
   "source": [
    "# Scenario\n",
    "Profitable Petrol Stations"
   ]
  },
  {
   "cell_type": "code",
   "execution_count": 1,
   "id": "14e484d3",
   "metadata": {},
   "outputs": [],
   "source": [
    "pet = [\n",
    "    {\"station1\": \"North\",\n",
    "    \"Name\": ['A', 'B', 'C', 'D'],\n",
    "     \"Profitable\": False,\n",
    "     \"Low Fuel Price\": False,\n",
    "     \"User Satisfaction\": True,\n",
    "    },\n",
    "    {\"station1\": \"South\",\n",
    "    \"Name\": ['E', 'F', 'G', 'H'],\n",
    "     \"Profitable\": True,\n",
    "     \"Low Fuel Price\": True,\n",
    "     \"User Satisfaction\": True,\n",
    "    },\n",
    "    {\"station1\": \"East\",\n",
    "    \"Name\": ['I', 'J', 'K', 'L'],\n",
    "     \"Profitable\": False,\n",
    "     \"Low Fuel Price\": False,\n",
    "     \"User Satisfaction\": False,\n",
    "    },\n",
    "    {\"station1\": \"West\",\n",
    "    \"Name\": ['M', 'N', 'O', 'P'],\n",
    "     \"Profitable\": True,\n",
    "     \"Low Fuel Price\": True,\n",
    "     \"User Satisfaction\": False,\n",
    "    }\n",
    "]"
   ]
  },
  {
   "cell_type": "code",
   "execution_count": 2,
   "id": "39e3b784",
   "metadata": {},
   "outputs": [
    {
     "name": "stdout",
     "output_type": "stream",
     "text": [
      "[{'station1': 'North', 'Name': ['A', 'B', 'C', 'D'], 'Profitable': False, 'Low Fuel Price': False, 'User Satisfaction': True}, {'station1': 'South', 'Name': ['E', 'F', 'G', 'H'], 'Profitable': True, 'Low Fuel Price': True, 'User Satisfaction': True}, {'station1': 'East', 'Name': ['I', 'J', 'K', 'L'], 'Profitable': False, 'Low Fuel Price': False, 'User Satisfaction': False}, {'station1': 'West', 'Name': ['M', 'N', 'O', 'P'], 'Profitable': True, 'Low Fuel Price': True, 'User Satisfaction': False}]\n"
     ]
    }
   ],
   "source": [
    "print(pet)"
   ]
  },
  {
   "cell_type": "code",
   "execution_count": 4,
   "id": "6305d66f",
   "metadata": {},
   "outputs": [
    {
     "name": "stdout",
     "output_type": "stream",
     "text": [
      "North\n"
     ]
    }
   ],
   "source": [
    "print(pet[0][\"station1\"])"
   ]
  },
  {
   "cell_type": "code",
   "execution_count": 12,
   "id": "93024b05",
   "metadata": {},
   "outputs": [
    {
     "name": "stdout",
     "output_type": "stream",
     "text": [
      "Expansion feasible:  False\n"
     ]
    }
   ],
   "source": [
    "#for station1\n",
    "#check for expansion\n",
    "print(\"Expansion feasible: \", (pet[0][\"Profitable\"] and (pet[0][\"Low Fuel Price\"] or pet[0][\"User Satisfaction\"])))"
   ]
  },
  {
   "cell_type": "code",
   "execution_count": 13,
   "id": "2b8d92e3",
   "metadata": {},
   "outputs": [
    {
     "name": "stdout",
     "output_type": "stream",
     "text": [
      "Expansion feasible:  True\n"
     ]
    }
   ],
   "source": [
    "#for station2\n",
    "#check for expansion\n",
    "print(\"Expansion feasible: \", (pet[1][\"Profitable\"] and (pet[1][\"Low Fuel Price\"] or pet[1][\"User Satisfaction\"])))"
   ]
  },
  {
   "cell_type": "code",
   "execution_count": 14,
   "id": "9ac292d4",
   "metadata": {},
   "outputs": [
    {
     "name": "stdout",
     "output_type": "stream",
     "text": [
      "Expansion feasible:  False\n"
     ]
    }
   ],
   "source": [
    "#for station3\n",
    "#check for expansion\n",
    "print(\"Expansion feasible: \", (pet[2][\"Profitable\"] and (pet[2][\"Low Fuel Price\"] or pet[2][\"User Satisfaction\"])))"
   ]
  },
  {
   "cell_type": "code",
   "execution_count": 15,
   "id": "4f9ed5ce",
   "metadata": {},
   "outputs": [
    {
     "name": "stdout",
     "output_type": "stream",
     "text": [
      "Expansion feasible:  True\n"
     ]
    }
   ],
   "source": [
    "#for station4\n",
    "#check for expansion\n",
    "print(\"Expansion feasible: \", (pet[3][\"Profitable\"] and (pet[3][\"Low Fuel Price\"] or pet[3][\"User Satisfaction\"])))"
   ]
  },
  {
   "cell_type": "code",
   "execution_count": null,
   "id": "c53aa6f3",
   "metadata": {},
   "outputs": [],
   "source": []
  },
  {
   "cell_type": "code",
   "execution_count": null,
   "id": "899976a3",
   "metadata": {},
   "outputs": [],
   "source": []
  }
 ],
 "metadata": {
  "kernelspec": {
   "display_name": "Python 3 (ipykernel)",
   "language": "python",
   "name": "python3"
  },
  "language_info": {
   "codemirror_mode": {
    "name": "ipython",
    "version": 3
   },
   "file_extension": ".py",
   "mimetype": "text/x-python",
   "name": "python",
   "nbconvert_exporter": "python",
   "pygments_lexer": "ipython3",
   "version": "3.11.4"
  }
 },
 "nbformat": 4,
 "nbformat_minor": 5
}
