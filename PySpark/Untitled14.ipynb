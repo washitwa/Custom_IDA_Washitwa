{
 "cells": [
  {
   "cell_type": "code",
   "execution_count": 1,
   "id": "03e05bf0",
   "metadata": {},
   "outputs": [],
   "source": [
    "from pyspark.conf import SparkConf\n",
    "from pyspark.sql.session import SparkSession\n",
    "from pyspark.context import SparkContext\n",
    "from pyspark.sql.functions import *\n",
    "from pyspark.sql.types import *"
   ]
  },
  {
   "cell_type": "code",
   "execution_count": 2,
   "id": "5539b8c5",
   "metadata": {},
   "outputs": [
    {
     "name": "stderr",
     "output_type": "stream",
     "text": [
      "Setting default log level to \"WARN\".\n",
      "To adjust logging level use sc.setLogLevel(newLevel). For SparkR, use setLogLevel(newLevel).\n",
      "23/09/22 08:46:50 WARN NativeCodeLoader: Unable to load native-hadoop library for your platform... using builtin-java classes where applicable\n",
      "23/09/22 08:46:52 WARN Utils: Service 'SparkUI' could not bind on port 4040. Attempting port 4041.\n",
      "23/09/22 08:46:52 WARN Utils: Service 'SparkUI' could not bind on port 4041. Attempting port 4042.\n"
     ]
    }
   ],
   "source": [
    "conf = SparkConf().setAppName(\"NewApp\").setMaster(\"local\")\n",
    "sc = SparkContext(conf = conf)\n",
    "spark = SparkSession.builder.getOrCreate()"
   ]
  },
  {
   "cell_type": "code",
   "execution_count": 5,
   "id": "0253f9a2",
   "metadata": {},
   "outputs": [],
   "source": [
    "#create dataframes upon file import\n",
    "\n",
    "cusdf = spark.read.format(\"csv\").option(\"delimiter\",\"\\t\").option(\"header\",True).load(\"/home/labuser/Downloads/PartSupply/customer.csv\")"
   ]
  },
  {
   "cell_type": "code",
   "execution_count": 6,
   "id": "80ed9d4b",
   "metadata": {},
   "outputs": [
    {
     "name": "stdout",
     "output_type": "stream",
     "text": [
      "+---------+------------------+--------------------+-----------+---------------+---------+------------+--------------------+\n",
      "|C_CUSTKEY|            C_NAME|           C_ADDRESS|C_NATIONKEY|        C_PHONE|C_ACCTBAL|C_MKTSEGMENT|           C_COMMENT|\n",
      "+---------+------------------+--------------------+-----------+---------------+---------+------------+--------------------+\n",
      "|        1|Customer#000000001|   IVhzIApeRb ot,c,E|         15|25-989-741-2988|   711.56|    BUILDING|to the even, regu...|\n",
      "|        2|Customer#000000002|XSTf4,NCwDVaWNe6t...|         13|23-768-687-3665|   121.65|  AUTOMOBILE|l accounts. blith...|\n",
      "|        3|Customer#000000003|        MG9kdTD2WBHm|          1|11-719-748-3364|  7498.12|  AUTOMOBILE| deposits eat sly...|\n",
      "|        4|Customer#000000004|         XxVSJsLAGtn|          4|14-128-190-5944|  2866.83|   MACHINERY| requests. final,...|\n",
      "|        5|Customer#000000005|KvpyuHCplrB84WgAi...|          3|13-750-942-6364|   794.47|   HOUSEHOLD|n accounts will h...|\n",
      "|        6|Customer#000000006|sKZz0CsnMD7mp4Xd0...|         20|30-114-968-4951|  7638.57|  AUTOMOBILE|tions. even depos...|\n",
      "|        7|Customer#000000007|TcGe5gaZNgVePxU5k...|         18|28-190-982-9759|  9561.95|  AUTOMOBILE|ainst the ironic,...|\n",
      "|        8|Customer#000000008|I0B10bB0AymmC, 0P...|         17|27-147-574-9335|  6819.74|    BUILDING|among the slyly r...|\n",
      "|        9|Customer#000000009|xKiAFTjUsCuxfeleN...|          8|18-338-906-3675|  8324.07|   FURNITURE|r theodolites acc...|\n",
      "|       10|Customer#000000010|6LrEaV6KR6PLVcgl2...|          5|15-741-346-9870|  2753.54|   HOUSEHOLD|es regular deposi...|\n",
      "|       11|Customer#000000011|PkWS 3HlXqwTuzrKg...|         23|33-464-151-3439|  -272.60|    BUILDING|ckages. requests ...|\n",
      "|       12|Customer#000000012|       9PWKuhzT4Zr1Q|         13|23-791-276-1263|  3396.49|   HOUSEHOLD| to the carefully...|\n",
      "|       13|Customer#000000013|nsXQu0oVjD7PM659u...|          3|13-761-547-5974|  3857.34|    BUILDING|ounts sleep caref...|\n",
      "|       14|Customer#000000014|     KXkletMlL2JQEA |          1|11-845-129-3851|  5266.30|   FURNITURE|, ironic packages...|\n",
      "|       15|Customer#000000015|YtWggXoOLdwdo7b0y...|         23|33-687-542-7601|  2788.52|   HOUSEHOLD| platelets. regul...|\n",
      "|       16|Customer#000000016| cYiaeMLZSMAOQ2 d0W,|         10|20-781-609-3107|  4681.03|   FURNITURE|kly silent courts...|\n",
      "|       17|Customer#000000017|izrh 6jdqtp2eqdtb...|          2|12-970-682-3487|     6.34|  AUTOMOBILE|packages wake! bl...|\n",
      "|       18|Customer#000000018|3txGO AiuFux3zT0Z...|          6|16-155-215-1315|  5494.43|    BUILDING|s sleep. carefull...|\n",
      "|       19|Customer#000000019|uc,3bHIx84H,wdrmL...|         18|28-396-526-5053|  8914.71|   HOUSEHOLD| nag. furiously c...|\n",
      "|       20|Customer#000000020|       JrPk8Pqplj4Ne|         22|32-957-234-8742|  7603.40|   FURNITURE|g alongside of th...|\n",
      "+---------+------------------+--------------------+-----------+---------------+---------+------------+--------------------+\n",
      "only showing top 20 rows\n",
      "\n"
     ]
    }
   ],
   "source": [
    "cusdf.show()"
   ]
  },
  {
   "cell_type": "code",
   "execution_count": 7,
   "id": "18ce089d",
   "metadata": {},
   "outputs": [],
   "source": [
    "linedf = spark.read.format(\"csv\").option(\"delimiter\",\"\\t\").option(\"header\",True).load(\"/home/labuser/Downloads/PartSupply/lineitem.csv\")\n",
    "nationdf = spark.read.format(\"csv\").option(\"delimiter\",\"\\t\").option(\"header\",True).load(\"/home/labuser/Downloads/PartSupply/nation.csv\")\n",
    "orderdf = spark.read.format(\"csv\").option(\"delimiter\",\"\\t\").option(\"header\",True).load(\"/home/labuser/Downloads/PartSupply/orders.csv\")\n",
    "partdf = spark.read.format(\"csv\").option(\"delimiter\",\"\\t\").option(\"header\",True).load(\"/home/labuser/Downloads/PartSupply/part.csv\")\n",
    "partsuppdf = spark.read.format(\"csv\").option(\"delimiter\",\"\\t\").option(\"header\",True).load(\"/home/labuser/Downloads/PartSupply/partsupp.csv\")\n",
    "regiondf = spark.read.format(\"csv\").option(\"delimiter\",\"\\t\").option(\"header\",True).load(\"/home/labuser/Downloads/PartSupply/region.csv\")\n",
    "supplierdf = spark.read.format(\"csv\").option(\"delimiter\",\"\\t\").option(\"header\",True).load(\"/home/labuser/Downloads/PartSupply/supplier.csv\")"
   ]
  },
  {
   "cell_type": "code",
   "execution_count": 14,
   "id": "2b4cb7c0",
   "metadata": {},
   "outputs": [
    {
     "name": "stdout",
     "output_type": "stream",
     "text": [
      "+---------+------------------+--------------------+-----------+---------------+---------+--------------------+\n",
      "|S_SUPPKEY|            S_NAME|           S_ADDRESS|S_NATIONKEY|        S_PHONE|S_ACCTBAL|           S_COMMENT|\n",
      "+---------+------------------+--------------------+-----------+---------------+---------+--------------------+\n",
      "|        1|Supplier#000000001| N kD4on9OM Ipw3,...|         17|27-918-335-1736|  5755.94|each slyly above ...|\n",
      "|        2|Supplier#000000002|89eJ5ksX3ImxJQBvx...|          5|15-679-861-2259|  4032.68| slyly bold instr...|\n",
      "|        3|Supplier#000000003|q1,G3Pj6OjIuUYfUo...|          1|11-383-516-1199|  4192.40|blithely silent r...|\n",
      "|        4|Supplier#000000004|Bk7ah4CK8SYQTepEm...|         15|25-843-787-7479|  4641.08|riously even requ...|\n",
      "|        5|Supplier#000000005|   Gcdm2rJRzl5qlTVzc|         11|21-151-690-3663|  -283.84|. slyly regular p...|\n",
      "|        6|Supplier#000000006|        tQxuVm7s7CnK|         14|24-696-997-4969|  1365.79|final accounts. r...|\n",
      "|        7|Supplier#000000007|s,4TicNGB4uO6PaSq...|         23|33-990-965-2201|  6820.35|s unwind silently...|\n",
      "|        8|Supplier#000000008|9Sq4bBH2FQEmaFOoc...|         17|27-498-742-3860|  7627.85|al pinto beans. a...|\n",
      "|        9|Supplier#000000009|1KhUgZegwM3ua7dsY...|         10|20-403-398-8662|  5302.37|s. unusual, even ...|\n",
      "|       10|Supplier#000000010|  Saygah3gYWMp72i PY|         24|34-852-489-8585|  3891.91|ing waters. regul...|\n",
      "|       11|Supplier#000000011|    JfwTs,LZrV, M,9C|         18|28-613-996-1505|  3393.08|y ironic packages...|\n",
      "|       12|Supplier#000000012|         aLIW  q0HYd|          8|18-179-925-7181|  1432.69|al packages nag a...|\n",
      "|       13|Supplier#000000013|HK71HQyWoqRWOX8GI...|          3|13-727-620-7813|  9107.22|requests engage r...|\n",
      "|       14|Supplier#000000014|     EXsnO5pTNj4iZRm|         15|25-656-247-5058|  9189.82|l accounts boost....|\n",
      "|       15|Supplier#000000015|olXVbNBfVzRqgokr1...|          8|18-453-357-6394|   308.56| across the furio...|\n",
      "|       16|Supplier#000000016|YjP5C55zHDXL7LalK...|         22|32-822-502-4215|  2972.26|ously express ide...|\n",
      "|       17|Supplier#000000017|c2d,ESHRSkK3WYnxp...|         19|29-601-884-9219|  1687.81|eep against the f...|\n",
      "|       18|Supplier#000000018|    PGGVE5PWAMwKDZw |         16|26-729-551-1115|  7040.82|accounts snooze s...|\n",
      "|       19|Supplier#000000019|edZT3es,nBFD8lBXT...|         24|34-278-310-2731|  6150.38|refully final fox...|\n",
      "|       20|Supplier#000000020|iybAE,RmTymrZVYaF...|          3|13-715-945-6730|   530.82|n, ironic ideas w...|\n",
      "+---------+------------------+--------------------+-----------+---------------+---------+--------------------+\n",
      "only showing top 20 rows\n",
      "\n"
     ]
    }
   ],
   "source": [
    "supplierdf.show()"
   ]
  },
  {
   "cell_type": "code",
   "execution_count": 16,
   "id": "7abdd8f3",
   "metadata": {},
   "outputs": [
    {
     "name": "stdout",
     "output_type": "stream",
     "text": [
      "root\n",
      " |-- C_CUSTKEY: string (nullable = true)\n",
      " |-- C_NAME: string (nullable = true)\n",
      " |-- C_ADDRESS: string (nullable = true)\n",
      " |-- C_NATIONKEY: string (nullable = true)\n",
      " |-- C_PHONE: string (nullable = true)\n",
      " |-- C_ACCTBAL: string (nullable = true)\n",
      " |-- C_MKTSEGMENT: string (nullable = true)\n",
      " |-- C_COMMENT: string (nullable = true)\n",
      "\n"
     ]
    }
   ],
   "source": [
    "cusdf.printSchema()"
   ]
  },
  {
   "cell_type": "code",
   "execution_count": 22,
   "id": "296b4268",
   "metadata": {},
   "outputs": [
    {
     "name": "stdout",
     "output_type": "stream",
     "text": [
      "+---------+------------------+----------+\n",
      "|C_CUSTKEY|            C_Name|O_ORDERKEY|\n",
      "+---------+------------------+----------+\n",
      "|      370|Customer#000000370|         1|\n",
      "|      781|Customer#000000781|         2|\n",
      "|     1234|Customer#000001234|         3|\n",
      "|     1369|Customer#000001369|         4|\n",
      "|      445|Customer#000000445|         5|\n",
      "|      557|Customer#000000557|         6|\n",
      "|      392|Customer#000000392|         7|\n",
      "|     1301|Customer#000001301|        32|\n",
      "|      670|Customer#000000670|        33|\n",
      "|      611|Customer#000000611|        34|\n",
      "|     1276|Customer#000001276|        35|\n",
      "|     1153|Customer#000001153|        36|\n",
      "|      862|Customer#000000862|        37|\n",
      "|     1249|Customer#000001249|        38|\n",
      "|      818|Customer#000000818|        39|\n",
      "|      322|Customer#000000322|        64|\n",
      "|      163|Customer#000000163|        65|\n",
      "|     1292|Customer#000001292|        66|\n",
      "|      568|Customer#000000568|        67|\n",
      "|      286|Customer#000000286|        68|\n",
      "+---------+------------------+----------+\n",
      "only showing top 20 rows\n",
      "\n"
     ]
    }
   ],
   "source": [
    "newdf = cusdf.join(orderdf, cusdf.C_CUSTKEY == orderdf.O_CUSTKEY, how = \"inner\").select('C_CUSTKEY', 'C_Name', orderdf.O_ORDERKEY)\n",
    "newdf.show()"
   ]
  },
  {
   "cell_type": "markdown",
   "id": "4f4118b4",
   "metadata": {},
   "source": [
    "## Joins"
   ]
  },
  {
   "cell_type": "code",
   "execution_count": 31,
   "id": "8950dfb1",
   "metadata": {},
   "outputs": [],
   "source": [
    "cus_ord = cusdf.join(orderdf, cusdf.C_CUSTKEY == orderdf.O_CUSTKEY, how=\"inner\")\n",
    "#cus_ord.show()"
   ]
  },
  {
   "cell_type": "markdown",
   "id": "9d37beee",
   "metadata": {},
   "source": [
    "## GroupBy and Aggregations"
   ]
  },
  {
   "cell_type": "code",
   "execution_count": 38,
   "id": "fd3d0dd0",
   "metadata": {},
   "outputs": [
    {
     "ename": "AnalysisException",
     "evalue": "[UNRESOLVED_COLUMN.WITH_SUGGESTION] A column or function parameter with name `C_CUSTKEY` cannot be resolved. Did you mean one of the following? [`O_TOTALPRICE`].;\n'Aggregate ['C_CUSTKEY], ['C_CUSTKEY, sum(O_TOTALPRICE#1313) AS sum(O_TOTALPRICE)#1317L]\n+- Project [cast(O_TOTALPRICE#244 as int) AS O_TOTALPRICE#1313]\n   +- Join Inner, (C_CUSTKEY#92 = O_CUSTKEY#242)\n      :- Relation [C_CUSTKEY#92,C_NAME#93,C_ADDRESS#94,C_NATIONKEY#95,C_PHONE#96,C_ACCTBAL#97,C_MKTSEGMENT#98,C_COMMENT#99] csv\n      +- Relation [O_ORDERKEY#241,O_CUSTKEY#242,O_ORDERSTATUS#243,O_TOTALPRICE#244,O_ORDERDATE#245,O_ORDERPRIORITY#246,O_CLERK#247,O_SHIPPRIORITY#248,O_COMMENT#249] csv\n",
     "output_type": "error",
     "traceback": [
      "\u001b[0;31m---------------------------------------------------------------------------\u001b[0m",
      "\u001b[0;31mAnalysisException\u001b[0m                         Traceback (most recent call last)",
      "Cell \u001b[0;32mIn[38], line 2\u001b[0m\n\u001b[1;32m      1\u001b[0m \u001b[38;5;66;03m#cus_ord = cus_ord.selectExpr('CAST(O_TOTALPRICE as Integer)')\u001b[39;00m\n\u001b[0;32m----> 2\u001b[0m cus_ord\u001b[38;5;241m.\u001b[39mgroupBy(\u001b[38;5;124m'\u001b[39m\u001b[38;5;124mC_CUSTKEY\u001b[39m\u001b[38;5;124m'\u001b[39m)\u001b[38;5;241m.\u001b[39msum(\u001b[38;5;124m'\u001b[39m\u001b[38;5;124mO_TOTALPRICE\u001b[39m\u001b[38;5;124m'\u001b[39m)\n",
      "File \u001b[0;32m/opt/anaconda3/lib/python3.11/site-packages/pyspark/sql/group.py:49\u001b[0m, in \u001b[0;36mdf_varargs_api.<locals>._api\u001b[0;34m(self, *cols)\u001b[0m\n\u001b[1;32m     47\u001b[0m \u001b[38;5;28;01mdef\u001b[39;00m \u001b[38;5;21m_api\u001b[39m(\u001b[38;5;28mself\u001b[39m: \u001b[38;5;124m\"\u001b[39m\u001b[38;5;124mGroupedData\u001b[39m\u001b[38;5;124m\"\u001b[39m, \u001b[38;5;241m*\u001b[39mcols: \u001b[38;5;28mstr\u001b[39m) \u001b[38;5;241m-\u001b[39m\u001b[38;5;241m>\u001b[39m DataFrame:\n\u001b[1;32m     48\u001b[0m     name \u001b[38;5;241m=\u001b[39m f\u001b[38;5;241m.\u001b[39m\u001b[38;5;18m__name__\u001b[39m\n\u001b[0;32m---> 49\u001b[0m     jdf \u001b[38;5;241m=\u001b[39m \u001b[38;5;28mgetattr\u001b[39m(\u001b[38;5;28mself\u001b[39m\u001b[38;5;241m.\u001b[39m_jgd, name)(_to_seq(\u001b[38;5;28mself\u001b[39m\u001b[38;5;241m.\u001b[39msession\u001b[38;5;241m.\u001b[39m_sc, cols))\n\u001b[1;32m     50\u001b[0m     \u001b[38;5;28;01mreturn\u001b[39;00m DataFrame(jdf, \u001b[38;5;28mself\u001b[39m\u001b[38;5;241m.\u001b[39msession)\n",
      "File \u001b[0;32m/opt/anaconda3/lib/python3.11/site-packages/py4j/java_gateway.py:1322\u001b[0m, in \u001b[0;36mJavaMember.__call__\u001b[0;34m(self, *args)\u001b[0m\n\u001b[1;32m   1316\u001b[0m command \u001b[38;5;241m=\u001b[39m proto\u001b[38;5;241m.\u001b[39mCALL_COMMAND_NAME \u001b[38;5;241m+\u001b[39m\\\n\u001b[1;32m   1317\u001b[0m     \u001b[38;5;28mself\u001b[39m\u001b[38;5;241m.\u001b[39mcommand_header \u001b[38;5;241m+\u001b[39m\\\n\u001b[1;32m   1318\u001b[0m     args_command \u001b[38;5;241m+\u001b[39m\\\n\u001b[1;32m   1319\u001b[0m     proto\u001b[38;5;241m.\u001b[39mEND_COMMAND_PART\n\u001b[1;32m   1321\u001b[0m answer \u001b[38;5;241m=\u001b[39m \u001b[38;5;28mself\u001b[39m\u001b[38;5;241m.\u001b[39mgateway_client\u001b[38;5;241m.\u001b[39msend_command(command)\n\u001b[0;32m-> 1322\u001b[0m return_value \u001b[38;5;241m=\u001b[39m get_return_value(\n\u001b[1;32m   1323\u001b[0m     answer, \u001b[38;5;28mself\u001b[39m\u001b[38;5;241m.\u001b[39mgateway_client, \u001b[38;5;28mself\u001b[39m\u001b[38;5;241m.\u001b[39mtarget_id, \u001b[38;5;28mself\u001b[39m\u001b[38;5;241m.\u001b[39mname)\n\u001b[1;32m   1325\u001b[0m \u001b[38;5;28;01mfor\u001b[39;00m temp_arg \u001b[38;5;129;01min\u001b[39;00m temp_args:\n\u001b[1;32m   1326\u001b[0m     \u001b[38;5;28;01mif\u001b[39;00m \u001b[38;5;28mhasattr\u001b[39m(temp_arg, \u001b[38;5;124m\"\u001b[39m\u001b[38;5;124m_detach\u001b[39m\u001b[38;5;124m\"\u001b[39m):\n",
      "File \u001b[0;32m/opt/anaconda3/lib/python3.11/site-packages/pyspark/errors/exceptions/captured.py:175\u001b[0m, in \u001b[0;36mcapture_sql_exception.<locals>.deco\u001b[0;34m(*a, **kw)\u001b[0m\n\u001b[1;32m    171\u001b[0m converted \u001b[38;5;241m=\u001b[39m convert_exception(e\u001b[38;5;241m.\u001b[39mjava_exception)\n\u001b[1;32m    172\u001b[0m \u001b[38;5;28;01mif\u001b[39;00m \u001b[38;5;129;01mnot\u001b[39;00m \u001b[38;5;28misinstance\u001b[39m(converted, UnknownException):\n\u001b[1;32m    173\u001b[0m     \u001b[38;5;66;03m# Hide where the exception came from that shows a non-Pythonic\u001b[39;00m\n\u001b[1;32m    174\u001b[0m     \u001b[38;5;66;03m# JVM exception message.\u001b[39;00m\n\u001b[0;32m--> 175\u001b[0m     \u001b[38;5;28;01mraise\u001b[39;00m converted \u001b[38;5;28;01mfrom\u001b[39;00m \u001b[38;5;28;01mNone\u001b[39;00m\n\u001b[1;32m    176\u001b[0m \u001b[38;5;28;01melse\u001b[39;00m:\n\u001b[1;32m    177\u001b[0m     \u001b[38;5;28;01mraise\u001b[39;00m\n",
      "\u001b[0;31mAnalysisException\u001b[0m: [UNRESOLVED_COLUMN.WITH_SUGGESTION] A column or function parameter with name `C_CUSTKEY` cannot be resolved. Did you mean one of the following? [`O_TOTALPRICE`].;\n'Aggregate ['C_CUSTKEY], ['C_CUSTKEY, sum(O_TOTALPRICE#1313) AS sum(O_TOTALPRICE)#1317L]\n+- Project [cast(O_TOTALPRICE#244 as int) AS O_TOTALPRICE#1313]\n   +- Join Inner, (C_CUSTKEY#92 = O_CUSTKEY#242)\n      :- Relation [C_CUSTKEY#92,C_NAME#93,C_ADDRESS#94,C_NATIONKEY#95,C_PHONE#96,C_ACCTBAL#97,C_MKTSEGMENT#98,C_COMMENT#99] csv\n      +- Relation [O_ORDERKEY#241,O_CUSTKEY#242,O_ORDERSTATUS#243,O_TOTALPRICE#244,O_ORDERDATE#245,O_ORDERPRIORITY#246,O_CLERK#247,O_SHIPPRIORITY#248,O_COMMENT#249] csv\n"
     ]
    }
   ],
   "source": [
    "#cus_ord = cus_ord.selectExpr('CAST(O_TOTALPRICE as Integer)')\n",
    "cus_ord.groupBy('C_CUSTKEY').sum('O_TOTALPRICE')"
   ]
  },
  {
   "cell_type": "code",
   "execution_count": 33,
   "id": "54017dc1",
   "metadata": {},
   "outputs": [
    {
     "name": "stdout",
     "output_type": "stream",
     "text": [
      "root\n",
      " |-- C_CUSTKEY: string (nullable = true)\n",
      " |-- C_NAME: string (nullable = true)\n",
      " |-- C_ADDRESS: string (nullable = true)\n",
      " |-- C_NATIONKEY: string (nullable = true)\n",
      " |-- C_PHONE: string (nullable = true)\n",
      " |-- C_ACCTBAL: string (nullable = true)\n",
      " |-- C_MKTSEGMENT: string (nullable = true)\n",
      " |-- C_COMMENT: string (nullable = true)\n",
      " |-- O_ORDERKEY: string (nullable = true)\n",
      " |-- O_CUSTKEY: string (nullable = true)\n",
      " |-- O_ORDERSTATUS: string (nullable = true)\n",
      " |-- O_TOTALPRICE: string (nullable = true)\n",
      " |-- O_ORDERDATE: string (nullable = true)\n",
      " |-- O_ORDERPRIORITY: string (nullable = true)\n",
      " |-- O_CLERK: string (nullable = true)\n",
      " |-- O_SHIPPRIORITY: string (nullable = true)\n",
      " |-- O_COMMENT: string (nullable = true)\n",
      "\n"
     ]
    }
   ],
   "source": [
    "cus_ord.printSchema()"
   ]
  },
  {
   "cell_type": "markdown",
   "id": "07986d41",
   "metadata": {},
   "source": [
    "## Parquet"
   ]
  },
  {
   "cell_type": "code",
   "execution_count": 34,
   "id": "af69f471",
   "metadata": {},
   "outputs": [
    {
     "name": "stdout",
     "output_type": "stream",
     "text": [
      "root\n",
      " |-- O_ORDERKEY: string (nullable = true)\n",
      " |-- O_CUSTKEY: string (nullable = true)\n",
      " |-- O_ORDERSTATUS: string (nullable = true)\n",
      " |-- O_TOTALPRICE: string (nullable = true)\n",
      " |-- O_ORDERDATE: string (nullable = true)\n",
      " |-- O_ORDERPRIORITY: string (nullable = true)\n",
      " |-- O_CLERK: string (nullable = true)\n",
      " |-- O_SHIPPRIORITY: string (nullable = true)\n",
      " |-- O_COMMENT: string (nullable = true)\n",
      "\n"
     ]
    }
   ],
   "source": [
    "orderdf.printSchema()"
   ]
  },
  {
   "cell_type": "markdown",
   "id": "11737a44",
   "metadata": {},
   "source": [
    "## Coalesce"
   ]
  },
  {
   "cell_type": "code",
   "execution_count": null,
   "id": "fe53453a",
   "metadata": {},
   "outputs": [],
   "source": []
  }
 ],
 "metadata": {
  "kernelspec": {
   "display_name": "Python 3 (ipykernel)",
   "language": "python",
   "name": "python3"
  },
  "language_info": {
   "codemirror_mode": {
    "name": "ipython",
    "version": 3
   },
   "file_extension": ".py",
   "mimetype": "text/x-python",
   "name": "python",
   "nbconvert_exporter": "python",
   "pygments_lexer": "ipython3",
   "version": "3.11.4"
  }
 },
 "nbformat": 4,
 "nbformat_minor": 5
}
