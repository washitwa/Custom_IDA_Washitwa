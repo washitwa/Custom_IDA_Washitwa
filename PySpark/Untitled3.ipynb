{
 "cells": [
  {
   "cell_type": "markdown",
   "id": "50ef36d2",
   "metadata": {},
   "source": [
    "# Classes in Python"
   ]
  },
  {
   "cell_type": "code",
   "execution_count": 8,
   "id": "bbf05010",
   "metadata": {},
   "outputs": [],
   "source": [
    "class Person:\n",
    "    def __init__(self, name, age):\n",
    "        self.name = name\n",
    "        self.age = age\n",
    "    \n",
    "    def greet(self):\n",
    "        print(\"sup\")"
   ]
  },
  {
   "cell_type": "code",
   "execution_count": 9,
   "id": "e061d596",
   "metadata": {},
   "outputs": [
    {
     "name": "stdout",
     "output_type": "stream",
     "text": [
      "sup\n",
      "None\n"
     ]
    }
   ],
   "source": [
    "per = Person(\"Washitwa\", 21)\n",
    "print(per.greet())"
   ]
  },
  {
   "cell_type": "code",
   "execution_count": 29,
   "id": "fb858266",
   "metadata": {},
   "outputs": [],
   "source": [
    "class Shell:\n",
    "    \n",
    "    \n",
    "    def __init__(self, p, t, m):\n",
    "        self.p = p\n",
    "        self.t = t\n",
    "        self.m = m\n",
    "        \n",
    "    def volume(self):\n",
    "        R = 8.3145\n",
    "        vol = 1.0 * R * self.t / self.p\n",
    "        print(f\"Volume is: {round(vol, 2)} m^3\")\n",
    "        return vol\n",
    "    \n",
    "    def mass(self):\n",
    "        vol = self.volume()\n",
    "        mass = 1000 * vol * self.m\n",
    "        print(f\"Mass is: {round(mass, 2)} g\")"
   ]
  },
  {
   "cell_type": "code",
   "execution_count": 30,
   "id": "ad5c5abf",
   "metadata": {},
   "outputs": [
    {
     "name": "stdout",
     "output_type": "stream",
     "text": [
      "Enter the pressure in Pascal: 1\n",
      "Enter the temperature in Kelvin: 273\n",
      "Enter the molar mass: 5\n",
      "Volume is: 2269.86 m^3\n",
      "Mass is: 11349292.5 g\n"
     ]
    }
   ],
   "source": [
    "p = float(input(\"Enter the pressure in Pascal: \"))\n",
    "t = float(input(\"Enter the temperature in Kelvin: \"))\n",
    "m = float(input(\"Enter the molar mass: \"))\n",
    "sh = Shell(p,t,m)\n",
    "\n",
    "sh.mass()"
   ]
  },
  {
   "cell_type": "markdown",
   "id": "9dea9ad7",
   "metadata": {},
   "source": [
    "# Time Functions in Python"
   ]
  },
  {
   "cell_type": "code",
   "execution_count": 36,
   "id": "386e6585",
   "metadata": {},
   "outputs": [
    {
     "name": "stdout",
     "output_type": "stream",
     "text": [
      "1695114148.921793\n",
      "23-09-19\n"
     ]
    }
   ],
   "source": [
    "import time\n",
    "from datetime import datetime\n",
    "\n",
    "curr_timestamp = time.time()\n",
    "print(curr_timestamp)\n",
    "\n",
    "test = datetime.fromtimestamp(curr_timestamp).strftime('%y-%m-%d')\n",
    "print(test)"
   ]
  },
  {
   "cell_type": "code",
   "execution_count": 42,
   "id": "1272de28",
   "metadata": {},
   "outputs": [
    {
     "data": {
      "text/plain": [
       "'09'"
      ]
     },
     "execution_count": 42,
     "metadata": {},
     "output_type": "execute_result"
    }
   ],
   "source": [
    "datetime.now()\n",
    "datetime.now().strftime('%H')"
   ]
  },
  {
   "cell_type": "markdown",
   "id": "01b985cb",
   "metadata": {},
   "source": [
    "# Exception Handling in Python"
   ]
  },
  {
   "cell_type": "code",
   "execution_count": 58,
   "id": "06aaf445",
   "metadata": {},
   "outputs": [
    {
     "ename": "ZeroDivisionError",
     "evalue": "division by zero",
     "output_type": "error",
     "traceback": [
      "\u001b[0;31m---------------------------------------------------------------------------\u001b[0m",
      "\u001b[0;31mZeroDivisionError\u001b[0m                         Traceback (most recent call last)",
      "Cell \u001b[0;32mIn[58], line 1\u001b[0m\n\u001b[0;32m----> 1\u001b[0m \u001b[38;5;241m5\u001b[39m\u001b[38;5;241m/\u001b[39m\u001b[38;5;241m0\u001b[39m\n",
      "\u001b[0;31mZeroDivisionError\u001b[0m: division by zero"
     ]
    }
   ],
   "source": [
    "5/0"
   ]
  },
  {
   "cell_type": "code",
   "execution_count": 63,
   "id": "3d37659c",
   "metadata": {},
   "outputs": [],
   "source": [
    "a = 10\n",
    "b = 0\n",
    "c = 2\n",
    "try:\n",
    "    result = a / b\n",
    "    print(result)\n",
    "    result = a/c\n",
    "    print(result)\n",
    "\n",
    "except ZeroDivisionError:\n",
    "    pass"
   ]
  },
  {
   "cell_type": "code",
   "execution_count": 62,
   "id": "e5be848a",
   "metadata": {},
   "outputs": [
    {
     "name": "stdout",
     "output_type": "stream",
     "text": [
      "test\n"
     ]
    }
   ],
   "source": [
    "a = 10\n",
    "b = 0\n",
    "c = 2\n",
    "try:\n",
    "    if a/b >= 0:\n",
    "        print(a/b)\n",
    "    else:\n",
    "        print(a/c)\n",
    "\n",
    "except:\n",
    "    print(\"test\")"
   ]
  },
  {
   "cell_type": "code",
   "execution_count": 55,
   "id": "c4882451",
   "metadata": {},
   "outputs": [],
   "source": [
    "a = 10\n",
    "try:\n",
    "    for i in range(0, 5):\n",
    "        result = a / i\n",
    "        print(result)\n",
    "        \n",
    "except Exception: pass"
   ]
  },
  {
   "cell_type": "code",
   "execution_count": 54,
   "id": "8bc63f93",
   "metadata": {},
   "outputs": [
    {
     "name": "stdout",
     "output_type": "stream",
     "text": [
      "10.0\n",
      "5.0\n",
      "3.3333333333333335\n",
      "2.5\n"
     ]
    }
   ],
   "source": [
    "for i in range(0, 5):\n",
    "    try:\n",
    "        result = a / i\n",
    "        print(result)\n",
    "    except: continue"
   ]
  },
  {
   "cell_type": "markdown",
   "id": "7ab316c8",
   "metadata": {},
   "source": [
    "## Lambda Functions"
   ]
  },
  {
   "cell_type": "code",
   "execution_count": 64,
   "id": "5a05011e",
   "metadata": {},
   "outputs": [
    {
     "name": "stdout",
     "output_type": "stream",
     "text": [
      "11\n"
     ]
    }
   ],
   "source": [
    "add = lambda a,b:a+b\n",
    "print(add(5,6))"
   ]
  },
  {
   "cell_type": "code",
   "execution_count": null,
   "id": "63349a9d",
   "metadata": {},
   "outputs": [],
   "source": []
  }
 ],
 "metadata": {
  "kernelspec": {
   "display_name": "Python 3 (ipykernel)",
   "language": "python",
   "name": "python3"
  },
  "language_info": {
   "codemirror_mode": {
    "name": "ipython",
    "version": 3
   },
   "file_extension": ".py",
   "mimetype": "text/x-python",
   "name": "python",
   "nbconvert_exporter": "python",
   "pygments_lexer": "ipython3",
   "version": "3.11.4"
  }
 },
 "nbformat": 4,
 "nbformat_minor": 5
}
