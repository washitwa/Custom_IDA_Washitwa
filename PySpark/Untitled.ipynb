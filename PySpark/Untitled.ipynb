{
 "cells": [
  {
   "cell_type": "markdown",
   "id": "cdbecc57",
   "metadata": {},
   "source": [
    "# Python Custom Course"
   ]
  },
  {
   "cell_type": "code",
   "execution_count": 1,
   "id": "06fb647b",
   "metadata": {},
   "outputs": [
    {
     "name": "stdout",
     "output_type": "stream",
     "text": [
      "[1, 2, 3, 4, 'Mani', 'Python', 'Scala is Better']\n"
     ]
    }
   ],
   "source": [
    "#list\n",
    "ls = [1,2,3,4, 'Mani', 'Python', \"Scala is Better\"]\n",
    "print(ls)"
   ]
  },
  {
   "cell_type": "code",
   "execution_count": 2,
   "id": "79fc8d17",
   "metadata": {},
   "outputs": [
    {
     "name": "stdout",
     "output_type": "stream",
     "text": [
      "(1, 2, 3, 4, 'Mani', 'Python', 'Scala is Better')\n"
     ]
    }
   ],
   "source": [
    "#tuple\n",
    "tp = (1,2,3,4, 'Mani', 'Python', \"Scala is Better\")\n",
    "print(tp)"
   ]
  },
  {
   "cell_type": "code",
   "execution_count": 3,
   "id": "5bc07fdc",
   "metadata": {},
   "outputs": [
    {
     "name": "stdout",
     "output_type": "stream",
     "text": [
      "{'Python', 1, 2, 3, 4, 'Mani', 'Scala is Better'}\n"
     ]
    }
   ],
   "source": [
    "#set\n",
    "se = {1,2,3,4, 'Mani', 'Python', \"Scala is Better\"}\n",
    "print(se)"
   ]
  },
  {
   "cell_type": "code",
   "execution_count": 6,
   "id": "f01f6038",
   "metadata": {},
   "outputs": [
    {
     "name": "stdout",
     "output_type": "stream",
     "text": [
      "{'Name': 'Washitwa', 'USN': '1MS19Is140', 'Branch': 'ISE'}\n"
     ]
    }
   ],
   "source": [
    "#dictionary\n",
    "dt = {\n",
    "    'Name': 'Washitwa',\n",
    "    'USN': '1MS19IS140',\n",
    "    'Branch': 'ISE'\n",
    "}\n",
    "print(dt)"
   ]
  },
  {
   "cell_type": "code",
   "execution_count": 12,
   "id": "792d37d1",
   "metadata": {},
   "outputs": [
    {
     "name": "stdout",
     "output_type": "stream",
     "text": [
      "[{'Name': 'Washitwa', 'USN': '1MS19CS040', 'Branch': 'CSE'}, {'Name': 'Redfrost', 'USN': '1MS19EE140', 'Branch': 'ECE'}, {'Name': 'Coldblade', 'USN': '1MS19IS140', 'Branch': 'ISE'}]\n",
      "\n",
      " Washitwa \n",
      "\n"
     ]
    }
   ],
   "source": [
    "ll = [\n",
    "    {'Name': 'Washitwa',\n",
    "    'USN': '1MS19CS040',\n",
    "    'Branch': 'CSE'},\n",
    "    {'Name': 'Redfrost',\n",
    "    'USN': '1MS19EE140',\n",
    "    'Branch': 'ECE'},\n",
    "    {'Name': 'Coldblade',\n",
    "    'USN': '1MS19IS140',\n",
    "    'Branch': 'ISE'}\n",
    "]\n",
    "\n",
    "print(ll)\n",
    "print(\"\\n\",ll[0][\"Name\"],\"\\n\")"
   ]
  },
  {
   "cell_type": "code",
   "execution_count": 3,
   "id": "08eb7309",
   "metadata": {},
   "outputs": [],
   "source": [
    "# Integers\n",
    "age = 25\n",
    "\n",
    "# Floating-Point Numbers\n",
    "price = 19.99\n",
    "\n",
    "# Strings\n",
    "name = \"Alice\"\n",
    "message = 'Hello, World!'\n",
    "\n",
    "# Boolean Values\n",
    "is_python_fun = True\n",
    "is_learning = False\n",
    "\n",
    "# Lists\n",
    "numbers = [1, 2, 3, 4, 5]\n",
    "fruits = [\"apple\", \"banana\", \"cherry\"]\n",
    "\n",
    "# Tuples\n",
    "coordinates = (3, 4)\n",
    "\n",
    "# Dictionaries\n",
    "person = {\"name\": \"Alice\", \"age\": 30, \"city\": \"New York\"}\n",
    "grades = {\"math\": 92, \"history\": 85, \"science\": 88}\n",
    "\n",
    "# Accessing elements in lists and dictionaries\n",
    "first_number = numbers[0]\n",
    "last_fruit = fruits[-1]\n",
    "name = person[\"name\"]\n",
    "math_grade = grades[\"math\"]\n",
    "\n",
    "\n",
    "\n",
    "# Creating a set using curly braces\n",
    "fruits = {\"apple\", \"banana\", \"cherry\"}\n",
    "\n",
    "# Creating a set using the set() constructor\n",
    "colors = set([\"red\", \"green\", \"blue\"])\n",
    "\n",
    "# Adding elements to a set\n",
    "fruits.add(\"orange\")\n",
    "\n",
    "# Removing elements from a set\n",
    "fruits.remove(\"banana\")\n",
    "\n",
    "\n",
    "a = 10\n",
    "b = 5\n",
    "\n",
    "# Addition\n",
    "addition = a + b  # Result: 15\n",
    "\n",
    "# Subtraction\n",
    "subtraction = a - b  # Result: 5\n",
    "\n",
    "# Multiplication\n",
    "multiplication = a * b  # Result: 50\n",
    "\n",
    "# Division\n",
    "division = a / b  # Result: 2.0 (Python 3 always returns a float in division)\n",
    "\n",
    "# Modulus (remainder)\n",
    "modulus = a % b  # Result: 0\n",
    "\n",
    "# Exponentiation\n",
    "exponentiation = a ** b  # Result: 100000\n",
    "\n",
    "\n",
    "\n",
    "my_list = [1, 2, 3, 4, 5]\n",
    "\n",
    "# Membership - in operator\n",
    "is_in_list = 3 in my_list  # Result: True\n",
    "\n",
    "# Membership - not in operator\n",
    "is_not_in_list = 6 not in my_list  # Result: True\n",
    "\n",
    "\n"
   ]
  },
  {
   "cell_type": "code",
   "execution_count": null,
   "id": "7d75d6f0",
   "metadata": {},
   "outputs": [],
   "source": []
  }
 ],
 "metadata": {
  "kernelspec": {
   "display_name": "Python 3 (ipykernel)",
   "language": "python",
   "name": "python3"
  },
  "language_info": {
   "codemirror_mode": {
    "name": "ipython",
    "version": 3
   },
   "file_extension": ".py",
   "mimetype": "text/x-python",
   "name": "python",
   "nbconvert_exporter": "python",
   "pygments_lexer": "ipython3",
   "version": "3.11.4"
  }
 },
 "nbformat": 4,
 "nbformat_minor": 5
}
