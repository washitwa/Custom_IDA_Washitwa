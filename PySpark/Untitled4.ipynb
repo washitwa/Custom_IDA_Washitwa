{
 "cells": [
  {
   "cell_type": "code",
   "execution_count": 1,
   "id": "b93d8af9",
   "metadata": {},
   "outputs": [],
   "source": [
    "try:\n",
    "    print(5/0)\n",
    "    print(\"Hooray\")\n",
    "except Exception:\n",
    "    pass"
   ]
  },
  {
   "cell_type": "code",
   "execution_count": null,
   "id": "74733137",
   "metadata": {},
   "outputs": [],
   "source": [
    "import contextlib\n",
    "a = 16\n",
    "with contextlib.suppress(ZeroDivisionError):\n",
    "    try:\n",
    "        print(5/0)\n",
    "        print(\"Hooray\")\n",
    "    except Exception:\n",
    "        print(\"error happened\")"
   ]
  },
  {
   "cell_type": "code",
   "execution_count": null,
   "id": "0c5f3e0e",
   "metadata": {},
   "outputs": [],
   "source": []
  }
 ],
 "metadata": {
  "kernelspec": {
   "display_name": "Python 3 (ipykernel)",
   "language": "python",
   "name": "python3"
  },
  "language_info": {
   "codemirror_mode": {
    "name": "ipython",
    "version": 3
   },
   "file_extension": ".py",
   "mimetype": "text/x-python",
   "name": "python",
   "nbconvert_exporter": "python",
   "pygments_lexer": "ipython3",
   "version": "3.11.4"
  }
 },
 "nbformat": 4,
 "nbformat_minor": 5
}
