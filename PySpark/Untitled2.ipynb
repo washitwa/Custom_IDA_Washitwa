{
 "cells": [
  {
   "cell_type": "markdown",
   "id": "1fd0259d",
   "metadata": {},
   "source": [
    "# Functions in Python"
   ]
  },
  {
   "cell_type": "code",
   "execution_count": 1,
   "id": "008fa303",
   "metadata": {},
   "outputs": [],
   "source": [
    "#function defintion\n",
    "def add(a, b):\n",
    "    return (a+b)"
   ]
  },
  {
   "cell_type": "code",
   "execution_count": 2,
   "id": "89330703",
   "metadata": {},
   "outputs": [
    {
     "name": "stdout",
     "output_type": "stream",
     "text": [
      "3\n"
     ]
    }
   ],
   "source": [
    "print(add(1,2))"
   ]
  },
  {
   "cell_type": "markdown",
   "id": "e6d81010",
   "metadata": {},
   "source": [
    "## Function Composition"
   ]
  },
  {
   "cell_type": "code",
   "execution_count": 10,
   "id": "66a3ca28",
   "metadata": {},
   "outputs": [],
   "source": [
    "# a function to calculate the volume of a gas using the below formula\n",
    "# vol = (gas constant * temperature) / (pressure)\n",
    "\n",
    "R = 8.3145\n",
    "\n",
    "def volume(p, t):\n",
    "    vol = (R * t) / (p * 1.0)\n",
    "    return vol"
   ]
  },
  {
   "cell_type": "code",
   "execution_count": 11,
   "id": "f173d1d3",
   "metadata": {},
   "outputs": [
    {
     "name": "stdout",
     "output_type": "stream",
     "text": [
      "volume for pressure 1.0 Pa and temperature 273 kelvin is:  2269.8585000000003 m^3\n"
     ]
    }
   ],
   "source": [
    "print(\"volume for pressure 1.0 Pa and temperature 273 kelvin is: \", vol(1.0, 273), \"m^3\")"
   ]
  },
  {
   "cell_type": "code",
   "execution_count": 17,
   "id": "de78d929",
   "metadata": {},
   "outputs": [],
   "source": [
    "# function to get the mass of the gas using functional composition\n",
    "# the formula to get the mass is: mass = vol * molar mass\n",
    "\n",
    "def mass():\n",
    "    p = float(input(\"enter the pressure: \"))\n",
    "    t = float(input(\"enter the temperature: \"))\n",
    "    m = float(input(\"enter the molar mass: \"))\n",
    "    \n",
    "    \n",
    "    vol = volume(p, t)\n",
    "    m = vol * m * 1000\n",
    "    return m"
   ]
  },
  {
   "cell_type": "code",
   "execution_count": 18,
   "id": "0d5669f6",
   "metadata": {},
   "outputs": [
    {
     "name": "stdout",
     "output_type": "stream",
     "text": [
      "enter the pressure: 1\n",
      "enter the temperature: 273\n",
      "enter the molar mass: 5\n",
      "the mass is:  11349292.500000002 g\n"
     ]
    }
   ],
   "source": [
    "print(\"the mass is: \", mass() , \"g\")"
   ]
  },
  {
   "cell_type": "code",
   "execution_count": 19,
   "id": "a240e7b2",
   "metadata": {},
   "outputs": [],
   "source": [
    "# function to get the factorial of a number\n",
    "\n",
    "def recursive_fac(n):\n",
    "    if n == 0:\n",
    "        return 1\n",
    "    else:\n",
    "        return n * recursive_fac(n-1)"
   ]
  },
  {
   "cell_type": "code",
   "execution_count": 20,
   "id": "c5a19da6",
   "metadata": {},
   "outputs": [
    {
     "name": "stdout",
     "output_type": "stream",
     "text": [
      "factorial of 5 is:  120\n"
     ]
    }
   ],
   "source": [
    "print(\"factorial of 5 is: \", recursive_fac(5))"
   ]
  },
  {
   "cell_type": "markdown",
   "id": "35ebbfc8",
   "metadata": {},
   "source": [
    "## Recursive Function"
   ]
  },
  {
   "cell_type": "code",
   "execution_count": 48,
   "id": "fe0bffc8",
   "metadata": {},
   "outputs": [],
   "source": [
    "# function to get the total depth\n",
    "# cannot give if segments is None because is checks if the address is \n",
    "\n",
    "def depth(segments):\n",
    "    if len(segments) == 0:\n",
    "        return 0\n",
    "    else:\n",
    "        print(id(segments))\n",
    "        current_depth = segments[0]\n",
    "        segments = segments[1:]\n",
    "        return current_depth + depth(segments)"
   ]
  },
  {
   "cell_type": "code",
   "execution_count": 49,
   "id": "ea485316",
   "metadata": {},
   "outputs": [
    {
     "name": "stdout",
     "output_type": "stream",
     "text": [
      "140538401408192\n",
      "140538401264256\n",
      "140538401408192\n",
      "140538409455872\n",
      "140538401294592\n"
     ]
    },
    {
     "data": {
      "text/plain": [
       "15"
      ]
     },
     "execution_count": 49,
     "metadata": {},
     "output_type": "execute_result"
    }
   ],
   "source": [
    "depth([1,2,3,4,5])"
   ]
  },
  {
   "cell_type": "markdown",
   "id": "41b3e56a",
   "metadata": {},
   "source": [
    "## Generator Function"
   ]
  },
  {
   "cell_type": "code",
   "execution_count": 54,
   "id": "18acb9f1",
   "metadata": {},
   "outputs": [],
   "source": [
    "# calculate the squares of a range of numbers using generator functions\n",
    "\n",
    "def generate_squares(n):\n",
    "    for i in range(1, n+1):\n",
    "        yield i ** 2"
   ]
  },
  {
   "cell_type": "code",
   "execution_count": 55,
   "id": "f0917a4e",
   "metadata": {},
   "outputs": [
    {
     "data": {
      "text/plain": [
       "<generator object generate_squares at 0x7fd1a5500200>"
      ]
     },
     "execution_count": 55,
     "metadata": {},
     "output_type": "execute_result"
    }
   ],
   "source": [
    "generate_squares(5)"
   ]
  },
  {
   "cell_type": "code",
   "execution_count": 56,
   "id": "3001c82f",
   "metadata": {},
   "outputs": [
    {
     "name": "stdout",
     "output_type": "stream",
     "text": [
      "1\n",
      "4\n",
      "9\n"
     ]
    }
   ],
   "source": [
    "for i in generate_squares(3):\n",
    "    print(i)"
   ]
  },
  {
   "cell_type": "code",
   "execution_count": 103,
   "id": "a9805369",
   "metadata": {},
   "outputs": [],
   "source": [
    "# calculate the monthly oil production from yearly_oil production\n",
    "\n",
    "sum = 0\n",
    "\n",
    "def oil_prod(y_value, months):\n",
    "    m_value = y_value / 12\n",
    "    \n",
    "    for i in range(1, len(months) + 1):\n",
    "        yield m_value\n",
    "    \n",
    "    "
   ]
  },
  {
   "cell_type": "code",
   "execution_count": 102,
   "id": "3f47b15d",
   "metadata": {},
   "outputs": [],
   "source": [
    "months = [\"january\", \"February\", \"March\", \"April\"]"
   ]
  },
  {
   "cell_type": "code",
   "execution_count": 106,
   "id": "6c8f45a1",
   "metadata": {},
   "outputs": [],
   "source": [
    "def oil_generate():\n",
    "    month_dict ={}\n",
    "    j = 0\n",
    "    for i in oil_prod(1000, months):\n",
    "\n",
    "        month_dict.update({months[j] : i})\n",
    "        j = j+1\n",
    "        \n",
    "    print(month_dict)"
   ]
  },
  {
   "cell_type": "code",
   "execution_count": 107,
   "id": "d9f1f9ed",
   "metadata": {},
   "outputs": [
    {
     "name": "stdout",
     "output_type": "stream",
     "text": [
      "{'january': 83.33333333333333, 'February': 83.33333333333333, 'March': 83.33333333333333, 'April': 83.33333333333333}\n"
     ]
    }
   ],
   "source": [
    "oil_generate()"
   ]
  },
  {
   "cell_type": "markdown",
   "id": "b730557c",
   "metadata": {},
   "source": [
    "## Decorator Functions"
   ]
  },
  {
   "cell_type": "code",
   "execution_count": 91,
   "id": "4e1b8d99",
   "metadata": {},
   "outputs": [],
   "source": [
    "def func1(func):\n",
    "    def wrapper():\n",
    "        print(\"statement 1\")\n",
    "        func()\n",
    "        print(\"statement 2\")\n",
    "        \n",
    "    return wrapper\n",
    "\n",
    "\n",
    "@func1\n",
    "def func2():\n",
    "    print(\"Hello\")\n"
   ]
  },
  {
   "cell_type": "code",
   "execution_count": 92,
   "id": "49a0f056",
   "metadata": {},
   "outputs": [
    {
     "name": "stdout",
     "output_type": "stream",
     "text": [
      "statement 1\n",
      "Hello\n",
      "statement 2\n"
     ]
    }
   ],
   "source": [
    "func2()"
   ]
  },
  {
   "cell_type": "code",
   "execution_count": 125,
   "id": "8b27b48a",
   "metadata": {},
   "outputs": [],
   "source": [
    "# logging information for the generator functions\n",
    "\n",
    "import logging\n",
    "\n",
    "\n",
    "def func1(func):\n",
    "    def wrapper():\n",
    "        logging.info(\"Calling the function oil_prod()\")\n",
    "        func()\n",
    "    \n",
    "    return wrapper\n",
    "\n",
    "\n",
    "def oil_prod(y_value, months):\n",
    "    m_value = y_value / 12\n",
    "    \n",
    "    for i in range(1, len(months) + 1):\n",
    "        yield m_value\n",
    "        \n",
    "@func1\n",
    "def oil_generate():\n",
    "    month_dict ={}\n",
    "    j = 0\n",
    "    for i in oil_prod(1000, months):\n",
    "\n",
    "        month_dict.update({months[j] : i})\n",
    "        j = j+1\n",
    "        \n",
    "    print(month_dict)\n",
    "    \n",
    "@func1\n",
    "def new_func():\n",
    "    print(\"operation over\")"
   ]
  },
  {
   "cell_type": "code",
   "execution_count": 126,
   "id": "6cecff47",
   "metadata": {},
   "outputs": [
    {
     "name": "stdout",
     "output_type": "stream",
     "text": [
      "{'january': 83.33333333333333, 'February': 83.33333333333333, 'March': 83.33333333333333, 'April': 83.33333333333333}\n",
      "operation over\n"
     ]
    }
   ],
   "source": [
    "months = [\"january\", \"February\", \"March\", \"April\"]\n",
    "oil_generate()\n",
    "new_func()"
   ]
  },
  {
   "cell_type": "markdown",
   "id": "8961da0e",
   "metadata": {},
   "source": [
    "## Positional and Keyword Arguments"
   ]
  },
  {
   "cell_type": "code",
   "execution_count": 129,
   "id": "860665d7",
   "metadata": {},
   "outputs": [],
   "source": [
    "# Parameterised Decorator function\n",
    "\n",
    "\n",
    "def func1(func):\n",
    "    def wrapper(*args, **kwargs):\n",
    "        print(\"calling function\")\n",
    "        func(*args, **kwargs)\n",
    "        print(\"done calling\")\n",
    "    return wrapper\n",
    "\n",
    "@func1\n",
    "def func2(a, b, c):\n",
    "    print(f\"a is {a}, b is {b}, c is {c}\")\n",
    "    "
   ]
  },
  {
   "cell_type": "code",
   "execution_count": 130,
   "id": "c9fd427d",
   "metadata": {},
   "outputs": [
    {
     "name": "stdout",
     "output_type": "stream",
     "text": [
      "calling function\n",
      "a is 5, b is 3, c is 7\n",
      "done calling\n"
     ]
    }
   ],
   "source": [
    "func2(5, 3, c = 7)"
   ]
  },
  {
   "cell_type": "code",
   "execution_count": null,
   "id": "d33fb2e3",
   "metadata": {},
   "outputs": [],
   "source": []
  }
 ],
 "metadata": {
  "kernelspec": {
   "display_name": "Python 3 (ipykernel)",
   "language": "python",
   "name": "python3"
  },
  "language_info": {
   "codemirror_mode": {
    "name": "ipython",
    "version": 3
   },
   "file_extension": ".py",
   "mimetype": "text/x-python",
   "name": "python",
   "nbconvert_exporter": "python",
   "pygments_lexer": "ipython3",
   "version": "3.11.4"
  }
 },
 "nbformat": 4,
 "nbformat_minor": 5
}
