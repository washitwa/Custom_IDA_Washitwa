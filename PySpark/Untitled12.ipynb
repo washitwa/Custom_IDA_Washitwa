{
 "cells": [
  {
   "cell_type": "code",
   "execution_count": 1,
   "id": "cf006d5c",
   "metadata": {},
   "outputs": [],
   "source": [
    "from pyspark.conf import SparkConf\n",
    "from pyspark.context import SparkContext\n",
    "from pyspark.sql import SparkSession\n",
    "from pyspark.sql.types import *\n",
    "from pyspark.sql.functions import *"
   ]
  },
  {
   "cell_type": "markdown",
   "id": "96498bb7",
   "metadata": {},
   "source": [
    "Spark Context is used to work with RDD\n",
    "\n",
    "Spark Session is used to work with Dataframes"
   ]
  },
  {
   "cell_type": "code",
   "execution_count": 2,
   "id": "10fd8e38",
   "metadata": {},
   "outputs": [
    {
     "name": "stderr",
     "output_type": "stream",
     "text": [
      "Setting default log level to \"WARN\".\n",
      "To adjust logging level use sc.setLogLevel(newLevel). For SparkR, use setLogLevel(newLevel).\n",
      "23/09/22 03:42:47 WARN NativeCodeLoader: Unable to load native-hadoop library for your platform... using builtin-java classes where applicable\n"
     ]
    }
   ],
   "source": [
    "#setting Spark Configuration\n",
    "conf = SparkConf().setAppName(\"first\").setMaster(\"local\")\n",
    "\n",
    "#creating Spark Context\n",
    "sc = SparkContext(conf = conf)"
   ]
  },
  {
   "cell_type": "code",
   "execution_count": 3,
   "id": "d6c8e653",
   "metadata": {},
   "outputs": [],
   "source": [
    "#creating Spark Session\n",
    "spark = SparkSession.builder.getOrCreate()"
   ]
  },
  {
   "cell_type": "markdown",
   "id": "fc799726",
   "metadata": {},
   "source": [
    "## Dataframe"
   ]
  },
  {
   "cell_type": "code",
   "execution_count": 4,
   "id": "bfcfff01",
   "metadata": {},
   "outputs": [
    {
     "name": "stderr",
     "output_type": "stream",
     "text": [
      "                                                                                \r"
     ]
    }
   ],
   "source": [
    "# working with purchases.csv file to create a dataframe during Read\n",
    "#Dataframe\n",
    "\n",
    "df = spark.read.format(\"csv\").option(\"inferSchema\",True).option(\"header\",True).load(\"/home/labuser/Downloads/purchases.csv\")"
   ]
  },
  {
   "cell_type": "code",
   "execution_count": 5,
   "id": "a3bd7642",
   "metadata": {},
   "outputs": [
    {
     "name": "stdout",
     "output_type": "stream",
     "text": [
      "+------+------+-------+\n",
      "|   _c0|apples|oranges|\n",
      "+------+------+-------+\n",
      "|  June|     3|      0|\n",
      "|Robert|     2|      3|\n",
      "|  Lily|     0|      7|\n",
      "| David|     1|      2|\n",
      "+------+------+-------+\n",
      "\n"
     ]
    },
    {
     "name": "stderr",
     "output_type": "stream",
     "text": [
      "23/09/22 03:43:21 WARN CSVHeaderChecker: CSV header does not conform to the schema.\n",
      " Header: , apples, oranges\n",
      " Schema: _c0, apples, oranges\n",
      "Expected: _c0 but found: \n",
      "CSV file: file:///home/labuser/Downloads/purchases.csv\n"
     ]
    }
   ],
   "source": [
    "#printing the dataframe\n",
    "df.show()"
   ]
  },
  {
   "cell_type": "code",
   "execution_count": 6,
   "id": "e8427b73",
   "metadata": {},
   "outputs": [
    {
     "name": "stdout",
     "output_type": "stream",
     "text": [
      "root\n",
      " |-- _c0: string (nullable = true)\n",
      " |-- apples: integer (nullable = true)\n",
      " |-- oranges: integer (nullable = true)\n",
      "\n"
     ]
    }
   ],
   "source": [
    "df.printSchema()"
   ]
  },
  {
   "cell_type": "markdown",
   "id": "80c34326",
   "metadata": {},
   "source": [
    "## Row RDD in Spark to create Dataframes"
   ]
  },
  {
   "cell_type": "code",
   "execution_count": 17,
   "id": "e0980db3",
   "metadata": {},
   "outputs": [],
   "source": [
    "from pyspark.sql.types import StructType,IntegerType,StructField,StringType,DoubleType\n",
    "\n",
    "udfSchema = StructType([StructField(\"Rankejriohwerhwjkbe\",IntegerType(),True),\n",
    "                        StructField(\"Title\",StringType(), True),\n",
    "                        StructField(\"Genre\",StringType(), True),\n",
    "                        StructField(\"Description\",StringType(), True),\n",
    "                        StructField(\"Director\",StringType(), True),\n",
    "                        StructField(\"Actors\",StringType(), True),\n",
    "                        StructField(\"Year\",StringType(), True),\n",
    "                        StructField(\"Runtime (Minutes)\",StringType(), True),\n",
    "                        StructField(\"Rating\",StringType(), True),\n",
    "                        StructField(\"Revenue (Millions)\",DoubleType(), True),\n",
    "                        StructField(\"Metascore\",DoubleType(), True)\n",
    "                        ])"
   ]
  },
  {
   "cell_type": "code",
   "execution_count": 25,
   "id": "7ca604b8",
   "metadata": {},
   "outputs": [
    {
     "data": {
      "text/plain": [
       "'\\nmovie_file = sc.textFile(\"/home/labuser/Downloads/IMDB-Movie-Data.csv\")\\n\\nmapsplit = movie_file.map(lambda x: x.split(\",\"))\\n\\nrowrdd = mapsplit.map(lambda x: Row(x(0), x(1), x(2), x(3), x(4), x(5), x(6), x(7), x(8), x(9), x(10)))\\n\\nmovie_df = spark.createDataFrame(rowrdd, udfSchema)\\nmovie_df.show()\\n'"
      ]
     },
     "execution_count": 25,
     "metadata": {},
     "output_type": "execute_result"
    }
   ],
   "source": [
    "\"\"\"\n",
    "movie_file = sc.textFile(\"/home/labuser/Downloads/IMDB-Movie-Data.csv\")\n",
    "\n",
    "mapsplit = movie_file.map(lambda x: x.split(\",\"))\n",
    "\n",
    "rowrdd = mapsplit.map(lambda x: Row(x(0), x(1), x(2), x(3), x(4), x(5), x(6), x(7), x(8), x(9), x(10)))\n",
    "\n",
    "movie_df = spark.createDataFrame(rowrdd, udfSchema)\n",
    "movie_df.show()\n",
    "\"\"\""
   ]
  },
  {
   "cell_type": "code",
   "execution_count": 8,
   "id": "97c2234d",
   "metadata": {},
   "outputs": [],
   "source": [
    "#instead of using the load method, .csv is directly used which makes it clear that the file format is csv\n",
    "#hence, .format need not be used here\n",
    "#in the next example, .format is needed without which execution fails\n",
    "\n",
    "movie = spark.read.schema(udfSchema).option(\"header\",True).csv(\"/home/labuser/Downloads/IMDB-Movie-Data.csv\")"
   ]
  },
  {
   "cell_type": "code",
   "execution_count": 9,
   "id": "addd28fc",
   "metadata": {},
   "outputs": [
    {
     "name": "stderr",
     "output_type": "stream",
     "text": [
      "23/09/22 03:43:44 WARN CSVHeaderChecker: Number of column in CSV header is not equal to number of fields in the schema:\n",
      " Header length: 12, schema size: 11\n",
      "CSV file: file:///home/labuser/Downloads/IMDB-Movie-Data.csv\n"
     ]
    },
    {
     "name": "stdout",
     "output_type": "stream",
     "text": [
      "+-------------------+--------------------+--------------------+--------------------+--------------------+--------------------+--------------------+-----------------+------+------------------+---------+\n",
      "|Rankejriohwerhwjkbe|               Title|               Genre|         Description|            Director|              Actors|                Year|Runtime (Minutes)|Rating|Revenue (Millions)|Metascore|\n",
      "+-------------------+--------------------+--------------------+--------------------+--------------------+--------------------+--------------------+-----------------+------+------------------+---------+\n",
      "|                  1|Guardians of the ...|Action,Adventure,...|A group of interg...|          James Gunn|Chris Pratt, Vin ...|                2014|              121|   8.1|          757074.0|   333.13|\n",
      "|                  2|          Prometheus|Adventure,Mystery...|Following clues t...|        Ridley Scott|Noomi Rapace, Log...|                2012|              124|     7|          485820.0|   126.46|\n",
      "|                  3|               Split|     Horror,Thriller|Three girls are k...|  M. Night Shyamalan|James McAvoy, Any...|                2016|              117|   7.3|          157606.0|   138.12|\n",
      "|                  4|                Sing|Animation,Comedy,...|In a city of huma...|Christophe Lourdelet|Matthew McConaugh...|                2016|              108|   7.2|           60545.0|   270.32|\n",
      "|                  5|       Suicide Squad|Action,Adventure,...|A secret governme...|          David Ayer|Will Smith, Jared...|                2016|              123|   6.2|          393727.0|   325.02|\n",
      "|                  6|      The Great Wall|Action,Adventure,...|European mercenar...|         Yimou Zhang|Matt Damon, Tian ...|                2016|              103|   6.1|           56036.0|    45.13|\n",
      "|                  7|          La La Land|  Comedy,Drama,Music|A jazz pianist fa...|     Damien Chazelle|Ryan Gosling, Emm...|                2016|              128|   8.3|          258682.0|   151.06|\n",
      "|                  8|            Mindhorn|              Comedy|\"A has-been actor...| whom he believes...|          Sean Foley|Essie Davis, Andr...|             2016|    89|               6.4|   2490.0|\n",
      "|                  9|  The Lost City of Z|Action,Adventure,...|A true-life drama...|          James Gray|Charlie Hunnam, R...|                2016|              141|   7.1|            7188.0|     8.01|\n",
      "|                 10|          Passengers|Adventure,Drama,R...|A spacecraft trav...|       Morten Tyldum|Jennifer Lawrence...|                2016|              116|     7|          192177.0|   100.01|\n",
      "|                 11|Fantastic Beasts ...|Adventure,Family,...|The adventures of...|         David Yates|Eddie Redmayne, K...|                2016|              133|   7.5|          232072.0|   234.02|\n",
      "|                 12|      Hidden Figures|Biography,Drama,H...|The story of a te...|      Theodore Melfi|Taraji P. Henson,...|                2016|              127|   7.8|           93103.0|   169.27|\n",
      "|                 13|           Rogue One|Action,Adventure,...|The Rebel Allianc...|      Gareth Edwards|Felicity Jones, D...|                2016|              133|   7.9|          323118.0|   532.17|\n",
      "|                 14|               Moana|Animation,Adventu...|In Ancient Polyne...|        Ron Clements|Auli'i Cravalho, ...|                2016|              107|   7.7|          118151.0|   248.75|\n",
      "|                 15|            Colossal| Action,Comedy,Drama|Gloria is an out-...|     Nacho Vigalondo|Anne Hathaway, Ja...|                2016|              109|   6.4|            8612.0|     2.87|\n",
      "|                 16|The Secret Life o...|Animation,Adventu...|The quiet life of...|        Chris Renaud|Louis C.K., Eric ...|                2016|               87|   6.6|          120259.0|   368.31|\n",
      "|                 17|       Hacksaw Ridge|Biography,Drama,H...|WWII American Arm...|          Mel Gibson|Andrew Garfield, ...|                2016|              139|   8.2|          211760.0|    67.12|\n",
      "|                 18|        Jason Bourne|     Action,Thriller|The CIA's most da...|     Paul Greengrass|Matt Damon, Tommy...|                2016|              123|   6.7|          150823.0|   162.16|\n",
      "|                 19|                Lion|     Biography,Drama|A five-year-old I...|         Garth Davis|Dev Patel, Nicole...|                2016|              118|   8.1|          102061.0|    51.69|\n",
      "|                 20|             Arrival|Drama,Mystery,Sci-Fi|When twelve myste...|    Denis Villeneuve|Amy Adams, Jeremy...|                2016|              116|     8|          340798.0|    100.5|\n",
      "+-------------------+--------------------+--------------------+--------------------+--------------------+--------------------+--------------------+-----------------+------+------------------+---------+\n",
      "only showing top 20 rows\n",
      "\n"
     ]
    },
    {
     "name": "stderr",
     "output_type": "stream",
     "text": [
      "\r",
      "[Stage 3:>                                                          (0 + 1) / 1]\r",
      "\r",
      "                                                                                \r"
     ]
    }
   ],
   "source": [
    "movie.show()"
   ]
  },
  {
   "cell_type": "code",
   "execution_count": 11,
   "id": "000913ed",
   "metadata": {},
   "outputs": [],
   "source": [
    "from pyspark.sql.types import *\n",
    "\n",
    "\n",
    "purchase_schema = StructType([StructField(\"Name\", StringType(), True),\n",
    "                       StructField(\"Apples\", IntegerType(), True),\n",
    "                       StructField(\"Oranges\", IntegerType(), True)])\n",
    "\n",
    "purchase = spark.read.format(\"csv\").schema(purchase_schema).option(\"header\",True).load('/home/labuser/Downloads/purchases.csv')"
   ]
  },
  {
   "cell_type": "code",
   "execution_count": 12,
   "id": "968e1ff3",
   "metadata": {},
   "outputs": [
    {
     "name": "stdout",
     "output_type": "stream",
     "text": [
      "+------+------+-------+\n",
      "|  Name|Apples|Oranges|\n",
      "+------+------+-------+\n",
      "|  June|     3|      0|\n",
      "|Robert|     2|      3|\n",
      "|  Lily|     0|      7|\n",
      "| David|     1|      2|\n",
      "+------+------+-------+\n",
      "\n"
     ]
    },
    {
     "name": "stderr",
     "output_type": "stream",
     "text": [
      "23/09/22 03:44:16 WARN CSVHeaderChecker: CSV header does not conform to the schema.\n",
      " Header: , apples, oranges\n",
      " Schema: Name, Apples, Oranges\n",
      "Expected: Name but found: \n",
      "CSV file: file:///home/labuser/Downloads/purchases.csv\n"
     ]
    }
   ],
   "source": [
    "purchase.show()"
   ]
  },
  {
   "cell_type": "markdown",
   "id": "38707a71",
   "metadata": {},
   "source": [
    "## Transformation Chaining"
   ]
  },
  {
   "cell_type": "markdown",
   "id": "48022a5a",
   "metadata": {},
   "source": [
    "### withColumn"
   ]
  },
  {
   "cell_type": "code",
   "execution_count": 13,
   "id": "39d7b817",
   "metadata": {},
   "outputs": [
    {
     "name": "stdout",
     "output_type": "stream",
     "text": [
      "+---------+------+-------+\n",
      "|FirstName|Apples|Oranges|\n",
      "+---------+------+-------+\n",
      "|     June|     3|      0|\n",
      "|   Robert|     2|      3|\n",
      "|     Lily|     0|      7|\n",
      "|    David|     1|      2|\n",
      "+---------+------+-------+\n",
      "\n"
     ]
    },
    {
     "name": "stderr",
     "output_type": "stream",
     "text": [
      "23/09/22 03:44:21 WARN CSVHeaderChecker: CSV header does not conform to the schema.\n",
      " Header: , apples, oranges\n",
      " Schema: Name, Apples, Oranges\n",
      "Expected: Name but found: \n",
      "CSV file: file:///home/labuser/Downloads/purchases.csv\n"
     ]
    }
   ],
   "source": [
    "#withColumn\n",
    "\n",
    "purchase = purchase.withColumnRenamed(\"Name\", \"FirstName\")\n",
    "purchase.show()"
   ]
  },
  {
   "cell_type": "markdown",
   "id": "4804c66d",
   "metadata": {},
   "source": [
    "### withColumnRenamed"
   ]
  },
  {
   "cell_type": "code",
   "execution_count": 15,
   "id": "9b6bd487",
   "metadata": {},
   "outputs": [
    {
     "name": "stdout",
     "output_type": "stream",
     "text": [
      "+---------+------+-------+--------+\n",
      "|FirstName|Apples|Oranges|NewApple|\n",
      "+---------+------+-------+--------+\n",
      "|     June|     3|      0|       8|\n",
      "|   Robert|     2|      3|       7|\n",
      "|     Lily|     0|      7|       5|\n",
      "|    David|     1|      2|       6|\n",
      "+---------+------+-------+--------+\n",
      "\n"
     ]
    },
    {
     "name": "stderr",
     "output_type": "stream",
     "text": [
      "23/09/22 03:44:54 WARN CSVHeaderChecker: CSV header does not conform to the schema.\n",
      " Header: , apples, oranges\n",
      " Schema: Name, Apples, Oranges\n",
      "Expected: Name but found: \n",
      "CSV file: file:///home/labuser/Downloads/purchases.csv\n"
     ]
    }
   ],
   "source": [
    "from pyspark.sql.functions import *\n",
    "purchase = purchase.withColumn(\"NewApple\", col(\"Apples\")+5)\n",
    "purchase.show()"
   ]
  },
  {
   "cell_type": "markdown",
   "id": "af043890",
   "metadata": {},
   "source": [
    "### lit and withColumn"
   ]
  },
  {
   "cell_type": "code",
   "execution_count": 16,
   "id": "362eceeb",
   "metadata": {},
   "outputs": [
    {
     "name": "stdout",
     "output_type": "stream",
     "text": [
      "+---------+------+-------+--------+--------+\n",
      "|FirstName|Apples|Oranges|NewApple|LitApple|\n",
      "+---------+------+-------+--------+--------+\n",
      "|     June|     3|      0|       8|       0|\n",
      "|   Robert|     2|      3|       7|       0|\n",
      "|     Lily|     0|      7|       5|       0|\n",
      "|    David|     1|      2|       6|       0|\n",
      "+---------+------+-------+--------+--------+\n",
      "\n"
     ]
    },
    {
     "name": "stderr",
     "output_type": "stream",
     "text": [
      "23/09/22 03:44:59 WARN CSVHeaderChecker: CSV header does not conform to the schema.\n",
      " Header: , apples, oranges\n",
      " Schema: Name, Apples, Oranges\n",
      "Expected: Name but found: \n",
      "CSV file: file:///home/labuser/Downloads/purchases.csv\n"
     ]
    }
   ],
   "source": [
    "purchase = purchase.withColumn(\"LitApple\", lit(0))\n",
    "purchase.show()"
   ]
  },
  {
   "cell_type": "code",
   "execution_count": null,
   "id": "7a0f25e0",
   "metadata": {},
   "outputs": [],
   "source": []
  }
 ],
 "metadata": {
  "kernelspec": {
   "display_name": "Python 3 (ipykernel)",
   "language": "python",
   "name": "python3"
  },
  "language_info": {
   "codemirror_mode": {
    "name": "ipython",
    "version": 3
   },
   "file_extension": ".py",
   "mimetype": "text/x-python",
   "name": "python",
   "nbconvert_exporter": "python",
   "pygments_lexer": "ipython3",
   "version": "3.11.4"
  }
 },
 "nbformat": 4,
 "nbformat_minor": 5
}
