{
 "cells": [
  {
   "cell_type": "code",
   "execution_count": 54,
   "id": "953dc98b",
   "metadata": {},
   "outputs": [],
   "source": [
    "from pyspark.sql import SparkSession\n",
    "from pyspark import SparkContext\n",
    "from pyspark import SparkConf"
   ]
  },
  {
   "cell_type": "code",
   "execution_count": 55,
   "id": "8c2cde24",
   "metadata": {},
   "outputs": [],
   "source": [
    "#initialize the spark session\n",
    "\n",
    "spark = SparkSession.builder.appName(\"WordCount\").getOrCreate()\n",
    "sc = spark.sparkContext"
   ]
  },
  {
   "cell_type": "markdown",
   "id": "273aed03",
   "metadata": {},
   "source": [
    "## RDD"
   ]
  },
  {
   "cell_type": "code",
   "execution_count": 94,
   "id": "e57ae7cf",
   "metadata": {},
   "outputs": [],
   "source": [
    "#RDD\n",
    "csv_file = sc.textFile(\"/home/labuser/Downloads/purchases.csv\")"
   ]
  },
  {
   "cell_type": "code",
   "execution_count": 95,
   "id": "9a0cf37b",
   "metadata": {},
   "outputs": [
    {
     "data": {
      "text/plain": [
       "[',apples,oranges', 'June,3,0', 'Robert,2,3', 'Lily,0,7', 'David,1,2']"
      ]
     },
     "execution_count": 95,
     "metadata": {},
     "output_type": "execute_result"
    }
   ],
   "source": [
    "#csv_file print\n",
    "csv_file.take(csv_file.count())"
   ]
  },
  {
   "cell_type": "code",
   "execution_count": 96,
   "id": "c4b10338",
   "metadata": {},
   "outputs": [
    {
     "name": "stdout",
     "output_type": "stream",
     "text": [
      ",apples,oranges\n",
      "June,3,0\n",
      "Robert,2,3\n",
      "Lily,0,7\n",
      "David,1,2\n"
     ]
    }
   ],
   "source": [
    "#csv_file print\n",
    "list_elements = csv_file.collect()\n",
    " \n",
    "# print the list\n",
    "for element in list_elements:\n",
    "    print(element)"
   ]
  },
  {
   "cell_type": "code",
   "execution_count": 60,
   "id": "e8a0e773",
   "metadata": {},
   "outputs": [],
   "source": [
    "#Dataframe\n",
    "\n",
    "df = spark.read.format(\"csv\").option(\"inferSchema\",True).option(\"header\",True).load(\"/home/labuser/Downloads/purchases.csv\")"
   ]
  },
  {
   "cell_type": "code",
   "execution_count": 61,
   "id": "9d1d7c95",
   "metadata": {},
   "outputs": [
    {
     "name": "stdout",
     "output_type": "stream",
     "text": [
      "+------+------+-------+\n",
      "|   _c0|apples|oranges|\n",
      "+------+------+-------+\n",
      "|  June|     3|      0|\n",
      "|Robert|     2|      3|\n",
      "|  Lily|     0|      7|\n",
      "| David|     1|      2|\n",
      "+------+------+-------+\n",
      "\n"
     ]
    },
    {
     "name": "stderr",
     "output_type": "stream",
     "text": [
      "23/09/21 09:08:14 WARN CSVHeaderChecker: CSV header does not conform to the schema.\n",
      " Header: , apples, oranges\n",
      " Schema: _c0, apples, oranges\n",
      "Expected: _c0 but found: \n",
      "CSV file: file:///home/labuser/Downloads/purchases.csv\n"
     ]
    }
   ],
   "source": [
    "df.show()"
   ]
  },
  {
   "cell_type": "markdown",
   "id": "35a3a333",
   "metadata": {},
   "source": [
    "## map in PySpark"
   ]
  },
  {
   "cell_type": "code",
   "execution_count": 62,
   "id": "0e01a4f3",
   "metadata": {},
   "outputs": [
    {
     "name": "stdout",
     "output_type": "stream",
     "text": [
      "6\n",
      "7\n",
      "8\n",
      "9\n",
      "10\n"
     ]
    }
   ],
   "source": [
    "ll = [1,2,3,4,5]\n",
    "ll = spark.sparkContext.parallelize(ll)\n",
    "\n",
    "csv1 = ll.map(lambda x:(x, x+5))\n",
    "\n",
    "col1 = csv1.collect()\n",
    "\n",
    "for i,j in col1:\n",
    "    print(j)"
   ]
  },
  {
   "cell_type": "markdown",
   "id": "ca09b427",
   "metadata": {},
   "source": [
    "## flatMap in PySpark"
   ]
  },
  {
   "cell_type": "code",
   "execution_count": 63,
   "id": "b69525ed",
   "metadata": {},
   "outputs": [],
   "source": [
    "#RDD\n",
    "manifile = spark.sparkContext.textFile(\"/home/labuser/Desktop/Python Custom/mani.txt\")"
   ]
  },
  {
   "cell_type": "code",
   "execution_count": 64,
   "id": "0e73b28b",
   "metadata": {},
   "outputs": [],
   "source": [
    "mani = manifile.flatMap(lambda x:(x, x.split(',')))"
   ]
  },
  {
   "cell_type": "code",
   "execution_count": 65,
   "id": "08f59fc1",
   "metadata": {},
   "outputs": [
    {
     "name": "stdout",
     "output_type": "stream",
     "text": [
      "1,Vish\n",
      "['1', 'Vish']\n",
      "2,Mani\n",
      "['2', 'Mani']\n",
      "3,Sushanth\n",
      "['3', 'Sushanth']\n"
     ]
    }
   ],
   "source": [
    "for i in mani.collect():\n",
    "    print(i)"
   ]
  },
  {
   "cell_type": "markdown",
   "id": "0cd05801",
   "metadata": {},
   "source": [
    "## reduceByKey in PySpark"
   ]
  },
  {
   "cell_type": "code",
   "execution_count": 66,
   "id": "e959e859",
   "metadata": {},
   "outputs": [],
   "source": [
    "list1 = [(1,6),(2,7),(1,8),(2,5)]\n",
    "list1 = spark.sparkContext.parallelize(list1)"
   ]
  },
  {
   "cell_type": "code",
   "execution_count": 67,
   "id": "2895a474",
   "metadata": {},
   "outputs": [
    {
     "data": {
      "text/plain": [
       "[(2, 12), (1, 14)]"
      ]
     },
     "execution_count": 67,
     "metadata": {},
     "output_type": "execute_result"
    }
   ],
   "source": [
    "list1_output = list1.reduceByKey(lambda x,y: (x+y))\n",
    "list1_output.take(list1.count())"
   ]
  },
  {
   "cell_type": "markdown",
   "id": "7c64dbc3",
   "metadata": {},
   "source": [
    "## groupByKey in PySpark"
   ]
  },
  {
   "cell_type": "code",
   "execution_count": 68,
   "id": "32e42291",
   "metadata": {},
   "outputs": [],
   "source": [
    "list2 = [(1,6),(2,7),(1,8),(2,5)]\n",
    "list2 = spark.sparkContext.parallelize(list2)"
   ]
  },
  {
   "cell_type": "code",
   "execution_count": 69,
   "id": "7d4cd27f",
   "metadata": {},
   "outputs": [
    {
     "data": {
      "text/plain": [
       "[(2, <pyspark.resultiterable.ResultIterable at 0x7f791aa73290>),\n",
       " (1, <pyspark.resultiterable.ResultIterable at 0x7f791bb2cc50>)]"
      ]
     },
     "execution_count": 69,
     "metadata": {},
     "output_type": "execute_result"
    }
   ],
   "source": [
    "list2_output = list2.groupByKey()\n",
    "list2_output.take(list2.count())"
   ]
  },
  {
   "cell_type": "code",
   "execution_count": 70,
   "id": "ba77b6cd",
   "metadata": {},
   "outputs": [
    {
     "name": "stdout",
     "output_type": "stream",
     "text": [
      "[7, 5]\n",
      "[6, 8]\n"
     ]
    }
   ],
   "source": [
    "list2_output = list2_output.collect()\n",
    "for i,j in list2_output:\n",
    "    print(list(j))"
   ]
  },
  {
   "cell_type": "code",
   "execution_count": null,
   "id": "7d9dd4f4",
   "metadata": {},
   "outputs": [],
   "source": []
  }
 ],
 "metadata": {
  "kernelspec": {
   "display_name": "Python 3 (ipykernel)",
   "language": "python",
   "name": "python3"
  },
  "language_info": {
   "codemirror_mode": {
    "name": "ipython",
    "version": 3
   },
   "file_extension": ".py",
   "mimetype": "text/x-python",
   "name": "python",
   "nbconvert_exporter": "python",
   "pygments_lexer": "ipython3",
   "version": "3.11.4"
  }
 },
 "nbformat": 4,
 "nbformat_minor": 5
}
